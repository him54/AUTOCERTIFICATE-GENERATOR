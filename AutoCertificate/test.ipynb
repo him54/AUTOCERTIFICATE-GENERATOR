{
 "metadata": {
  "language_info": {
   "codemirror_mode": {
    "name": "ipython",
    "version": 3
   },
   "file_extension": ".py",
   "mimetype": "text/x-python",
   "name": "python",
   "nbconvert_exporter": "python",
   "pygments_lexer": "ipython3",
   "version": "3.9.5"
  },
  "orig_nbformat": 4,
  "kernelspec": {
   "name": "python3",
   "display_name": "Python 3.9.5 64-bit"
  },
  "interpreter": {
   "hash": "9552b8190f63102abce783a036fdab59c8fbd44b305ff071c472b263e7af8b3a"
  }
 },
 "nbformat": 4,
 "nbformat_minor": 2,
 "cells": [
  {
   "cell_type": "code",
   "execution_count": 1,
   "metadata": {},
   "outputs": [],
   "source": [
    "import pandas as pd"
   ]
  },
  {
   "cell_type": "code",
   "execution_count": 5,
   "metadata": {},
   "outputs": [],
   "source": [
    "import os\n",
    "from PIL import Image,ImageDraw,ImageFont"
   ]
  },
  {
   "cell_type": "code",
   "execution_count": 8,
   "metadata": {},
   "outputs": [],
   "source": [
    "df=pd.read_csv('names.csv')"
   ]
  },
  {
   "cell_type": "code",
   "execution_count": 11,
   "metadata": {},
   "outputs": [],
   "source": [
    "font=ImageFont.truetype('arial.ttf',60)\n",
    "for index,j in df.iterrows():\n",
    "    img=Image.open('Image.jpg')\n",
    "    draw=ImageDraw.Draw(img)\n",
    "    draw.text(xy=(725,760),text='{}'.format(j['name']),fill=(0,0,0),font=font)\n",
    "    img.save('pictures/{}.jpg'.format(j['name']))"
   ]
  },
  {
   "cell_type": "code",
   "execution_count": null,
   "metadata": {},
   "outputs": [],
   "source": [
    "#complete"
   ]
  },
  {
   "cell_type": "code",
   "execution_count": 14,
   "metadata": {},
   "outputs": [],
   "source": [
    "import pandas as pd\n",
    "import os\n",
    "from PIL import Image,ImageDraw,ImageFont\n",
    "df=pd.read_csv('names.csv')\n",
    "font=ImageFont.truetype('arial.ttf',60)\n",
    "for index,j in df.iterrows():\n",
    "    img=Image.open('Image.jpg')\n",
    "    draw=ImageDraw.Draw(img)\n",
    "    draw.text(xy=(1375,835),text='{}'.format(j['name']),fill=(0,0,0),font=font)\n",
    "    img.save('pictures/{}.jpg'.format(j['name']))\n"
   ]
  },
  {
   "cell_type": "code",
   "execution_count": null,
   "metadata": {},
   "outputs": [],
   "source": []
  }
 ]
}